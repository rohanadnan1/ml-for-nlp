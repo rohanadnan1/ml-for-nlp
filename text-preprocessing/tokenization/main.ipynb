{
 "cells": [
  {
   "cell_type": "code",
   "execution_count": 1,
   "metadata": {},
   "outputs": [
    {
     "name": "stdout",
     "output_type": "stream",
     "text": [
      "hello\n"
     ]
    }
   ],
   "source": [
    "print('hello')"
   ]
  },
  {
   "cell_type": "markdown",
   "metadata": {},
   "source": [
    "# Tokenization\n",
    " \n",
    "## Some basic terms \n",
    "corpus -> paragraph\n",
    "document -> sentence \n",
    "vocabulary -> unique words\n",
    "words -> words\n",
    "\n",
    "### What is tokenization?\n",
    "the process of changing either paragraph or sentence into smaller chunks (tokens) is called tokenization\n"
   ]
  },
  {
   "cell_type": "code",
   "execution_count": 2,
   "metadata": {},
   "outputs": [],
   "source": [
    "corpus='''\n",
    "    Hello my name is ROhan. I love to code. Nowadays I'm trying to learn ml!\n",
    "'''"
   ]
  },
  {
   "cell_type": "code",
   "execution_count": 10,
   "metadata": {},
   "outputs": [
    {
     "name": "stderr",
     "output_type": "stream",
     "text": [
      "[nltk_data] Downloading package punkt_tab to\n",
      "[nltk_data]     /Users/macbook/nltk_data...\n",
      "[nltk_data]   Unzipping tokenizers/punkt_tab.zip.\n"
     ]
    }
   ],
   "source": [
    "import nltk\n",
    "nltk.download('punkt_tab')\n",
    "from  nltk.tokenize import word_tokenize, sent_tokenize, TreebankWordTokenizer"
   ]
  },
  {
   "cell_type": "code",
   "execution_count": 13,
   "metadata": {},
   "outputs": [
    {
     "name": "stdout",
     "output_type": "stream",
     "text": [
      "['\\n    Hello my name is ROhan.', 'I love to code.', \"Nowadays I'm trying to learn ml!\"]\n"
     ]
    }
   ],
   "source": [
    "## Here I am trying to tokenzize the sentence\n",
    "sentences = sent_tokenize(corpus)\n",
    "print(sentences)"
   ]
  },
  {
   "cell_type": "code",
   "execution_count": 16,
   "metadata": {},
   "outputs": [
    {
     "name": "stdout",
     "output_type": "stream",
     "text": [
      "['Hello', 'my', 'name', 'is', 'ROhan', '.']\n",
      "['I', 'love', 'to', 'code', '.']\n",
      "['Nowadays', 'I', \"'m\", 'trying', 'to', 'learn', 'ml', '!']\n"
     ]
    }
   ],
   "source": [
    "for sentence in sentences:\n",
    "    print(word_tokenize(sentence))"
   ]
  },
  {
   "cell_type": "code",
   "execution_count": 19,
   "metadata": {},
   "outputs": [
    {
     "name": "stdout",
     "output_type": "stream",
     "text": [
      "['Hello', 'my', 'name', 'is', 'ROhan.', 'I', 'love', 'to', 'code.', 'Nowadays', 'I', \"'m\", 'trying', 'to', 'learn', 'ml', '!']\n"
     ]
    }
   ],
   "source": [
    "tokenization = TreebankWordTokenizer() ## the thing to notice is this adds the . but not the last . of the paragraph\n",
    "print(tokenization.tokenize(corpus))"
   ]
  },
  {
   "cell_type": "code",
   "execution_count": null,
   "metadata": {},
   "outputs": [],
   "source": []
  }
 ],
 "metadata": {
  "kernelspec": {
   "display_name": "Python 3",
   "language": "python",
   "name": "python3"
  },
  "language_info": {
   "codemirror_mode": {
    "name": "ipython",
    "version": 3
   },
   "file_extension": ".py",
   "mimetype": "text/x-python",
   "name": "python",
   "nbconvert_exporter": "python",
   "pygments_lexer": "ipython3",
   "version": "3.12.0"
  }
 },
 "nbformat": 4,
 "nbformat_minor": 2
}
