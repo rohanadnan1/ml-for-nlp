{
 "cells": [
  {
   "cell_type": "code",
   "execution_count": 1,
   "metadata": {},
   "outputs": [
    {
     "name": "stderr",
     "output_type": "stream",
     "text": [
      "[nltk_data] Downloading package punkt_tab to\n",
      "[nltk_data]     /Users/macbook/nltk_data...\n",
      "[nltk_data]   Package punkt_tab is already up-to-date!\n"
     ]
    }
   ],
   "source": [
    "import nltk\n",
    "nltk.download('punkt_tab')\n",
    "from nltk.stem import PorterStemmer, SnowballStemmer, RegexpStemmer"
   ]
  },
  {
   "cell_type": "code",
   "execution_count": 3,
   "metadata": {},
   "outputs": [
    {
     "name": "stdout",
     "output_type": "stream",
     "text": [
      "hello -> hello\n",
      "ello -> ello\n",
      "jello -> jello\n",
      "mello -> mello\n",
      "khello -> khello\n"
     ]
    }
   ],
   "source": [
    "words = ['hello', 'ello', 'jello', 'mello', 'khello']\n",
    "porter_stem = PorterStemmer()\n",
    "for word in words:\n",
    "    print(f'{word} -> {porter_stem.stem(word)}')"
   ]
  },
  {
   "cell_type": "code",
   "execution_count": 6,
   "metadata": {},
   "outputs": [
    {
     "name": "stdout",
     "output_type": "stream",
     "text": [
      "hello -> hello\n",
      "ello -> ello\n",
      "jello -> jello\n",
      "mello -> mello\n",
      "khello -> khello\n"
     ]
    }
   ],
   "source": [
    "words = ['hello', 'ello', 'jello', 'mello', 'khello']\n",
    "snowball_stemmer = SnowballStemmer('english')\n",
    "for word in words:\n",
    "    print(f'{word} -> {snowball_stemmer.stem(word)}')"
   ]
  },
  {
   "cell_type": "code",
   "execution_count": 9,
   "metadata": {},
   "outputs": [
    {
     "name": "stdout",
     "output_type": "stream",
     "text": [
      "hello -> hel\n",
      "ello -> el\n",
      "jello -> jel\n",
      "mello -> mel\n",
      "khello -> khel\n"
     ]
    }
   ],
   "source": [
    "words = ['hello', 'ello', 'jello', 'mello', 'khello']\n",
    "regex = RegexpStemmer('lo$', min=4)\n",
    "for word in words:\n",
    "    print(f'{word} -> {regex.stem(word)}')"
   ]
  },
  {
   "cell_type": "code",
   "execution_count": null,
   "metadata": {},
   "outputs": [],
   "source": []
  }
 ],
 "metadata": {
  "kernelspec": {
   "display_name": "Python 3",
   "language": "python",
   "name": "python3"
  },
  "language_info": {
   "codemirror_mode": {
    "name": "ipython",
    "version": 3
   },
   "file_extension": ".py",
   "mimetype": "text/x-python",
   "name": "python",
   "nbconvert_exporter": "python",
   "pygments_lexer": "ipython3",
   "version": "3.12.0"
  }
 },
 "nbformat": 4,
 "nbformat_minor": 2
}
