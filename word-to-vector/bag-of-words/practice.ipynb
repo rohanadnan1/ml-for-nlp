{
 "cells": [
  {
   "cell_type": "code",
   "execution_count": 3,
   "metadata": {},
   "outputs": [],
   "source": [
    "import pandas as pd\n",
    "message = pd.read_csv('data.csv', sep='\\t', names=['label', 'message'])"
   ]
  },
  {
   "cell_type": "code",
   "execution_count": 4,
   "metadata": {},
   "outputs": [
    {
     "data": {
      "text/html": [
       "<div>\n",
       "<style scoped>\n",
       "    .dataframe tbody tr th:only-of-type {\n",
       "        vertical-align: middle;\n",
       "    }\n",
       "\n",
       "    .dataframe tbody tr th {\n",
       "        vertical-align: top;\n",
       "    }\n",
       "\n",
       "    .dataframe thead th {\n",
       "        text-align: right;\n",
       "    }\n",
       "</style>\n",
       "<table border=\"1\" class=\"dataframe\">\n",
       "  <thead>\n",
       "    <tr style=\"text-align: right;\">\n",
       "      <th></th>\n",
       "      <th>label</th>\n",
       "      <th>message</th>\n",
       "    </tr>\n",
       "  </thead>\n",
       "  <tbody>\n",
       "    <tr>\n",
       "      <th>0</th>\n",
       "      <td>ham    Hello, how are you today?</td>\n",
       "      <td>NaN</td>\n",
       "    </tr>\n",
       "    <tr>\n",
       "      <th>1</th>\n",
       "      <td>ham    I'll call you later.</td>\n",
       "      <td>NaN</td>\n",
       "    </tr>\n",
       "    <tr>\n",
       "      <th>2</th>\n",
       "      <td>ham    Are we still meeting tomorrow?</td>\n",
       "      <td>NaN</td>\n",
       "    </tr>\n",
       "    <tr>\n",
       "      <th>3</th>\n",
       "      <td>ham    Don't forget to bring the documents.</td>\n",
       "      <td>NaN</td>\n",
       "    </tr>\n",
       "    <tr>\n",
       "      <th>4</th>\n",
       "      <td>ham    See you at the office at 10 AM.</td>\n",
       "      <td>NaN</td>\n",
       "    </tr>\n",
       "    <tr>\n",
       "      <th>5</th>\n",
       "      <td>ham    Please confirm your appointment for nex...</td>\n",
       "      <td>NaN</td>\n",
       "    </tr>\n",
       "    <tr>\n",
       "      <th>6</th>\n",
       "      <td>ham    I sent you the report, let me know if y...</td>\n",
       "      <td>NaN</td>\n",
       "    </tr>\n",
       "    <tr>\n",
       "      <th>7</th>\n",
       "      <td>ham    Thank you for your purchase, your order...</td>\n",
       "      <td>NaN</td>\n",
       "    </tr>\n",
       "    <tr>\n",
       "      <th>8</th>\n",
       "      <td>ham    Can we reschedule the meeting to next M...</td>\n",
       "      <td>NaN</td>\n",
       "    </tr>\n",
       "    <tr>\n",
       "      <th>9</th>\n",
       "      <td>ham    Happy birthday! Hope you have a great day.</td>\n",
       "      <td>NaN</td>\n",
       "    </tr>\n",
       "    <tr>\n",
       "      <th>10</th>\n",
       "      <td>spam    You won a $1000 gift card! Click here ...</td>\n",
       "      <td>NaN</td>\n",
       "    </tr>\n",
       "    <tr>\n",
       "      <th>11</th>\n",
       "      <td>spam    Urgent! Your account has been compromi...</td>\n",
       "      <td>NaN</td>\n",
       "    </tr>\n",
       "    <tr>\n",
       "      <th>12</th>\n",
       "      <td>spam    Congratulations, you have been selecte...</td>\n",
       "      <td>NaN</td>\n",
       "    </tr>\n",
       "    <tr>\n",
       "      <th>13</th>\n",
       "      <td>spam    This is your final notice! Pay now to ...</td>\n",
       "      <td>NaN</td>\n",
       "    </tr>\n",
       "    <tr>\n",
       "      <th>14</th>\n",
       "      <td>spam    Earn $5000 from home in just 5 hours a...</td>\n",
       "      <td>NaN</td>\n",
       "    </tr>\n",
       "    <tr>\n",
       "      <th>15</th>\n",
       "      <td>spam    Get a free vacation with our exclusive...</td>\n",
       "      <td>NaN</td>\n",
       "    </tr>\n",
       "    <tr>\n",
       "      <th>16</th>\n",
       "      <td>spam    Limited-time offer: Buy one, get one f...</td>\n",
       "      <td>NaN</td>\n",
       "    </tr>\n",
       "    <tr>\n",
       "      <th>17</th>\n",
       "      <td>spam    You have an unclaimed reward waiting. ...</td>\n",
       "      <td>NaN</td>\n",
       "    </tr>\n",
       "    <tr>\n",
       "      <th>18</th>\n",
       "      <td>spam    Win big! Enter the lottery for a chanc...</td>\n",
       "      <td>NaN</td>\n",
       "    </tr>\n",
       "    <tr>\n",
       "      <th>19</th>\n",
       "      <td>spam    Act now and receive a discount on your...</td>\n",
       "      <td>NaN</td>\n",
       "    </tr>\n",
       "  </tbody>\n",
       "</table>\n",
       "</div>"
      ],
      "text/plain": [
       "                                                label  message\n",
       "0                    ham    Hello, how are you today?      NaN\n",
       "1                         ham    I'll call you later.      NaN\n",
       "2               ham    Are we still meeting tomorrow?      NaN\n",
       "3         ham    Don't forget to bring the documents.      NaN\n",
       "4              ham    See you at the office at 10 AM.      NaN\n",
       "5   ham    Please confirm your appointment for nex...      NaN\n",
       "6   ham    I sent you the report, let me know if y...      NaN\n",
       "7   ham    Thank you for your purchase, your order...      NaN\n",
       "8   ham    Can we reschedule the meeting to next M...      NaN\n",
       "9   ham    Happy birthday! Hope you have a great day.      NaN\n",
       "10  spam    You won a $1000 gift card! Click here ...      NaN\n",
       "11  spam    Urgent! Your account has been compromi...      NaN\n",
       "12  spam    Congratulations, you have been selecte...      NaN\n",
       "13  spam    This is your final notice! Pay now to ...      NaN\n",
       "14  spam    Earn $5000 from home in just 5 hours a...      NaN\n",
       "15  spam    Get a free vacation with our exclusive...      NaN\n",
       "16  spam    Limited-time offer: Buy one, get one f...      NaN\n",
       "17  spam    You have an unclaimed reward waiting. ...      NaN\n",
       "18  spam    Win big! Enter the lottery for a chanc...      NaN\n",
       "19  spam    Act now and receive a discount on your...      NaN"
      ]
     },
     "execution_count": 4,
     "metadata": {},
     "output_type": "execute_result"
    }
   ],
   "source": [
    "message"
   ]
  },
  {
   "cell_type": "code",
   "execution_count": 5,
   "metadata": {},
   "outputs": [
    {
     "name": "stderr",
     "output_type": "stream",
     "text": [
      "[nltk_data] Downloading package stopwords to\n",
      "[nltk_data]     /Users/macbook/nltk_data...\n",
      "[nltk_data]   Package stopwords is already up-to-date!\n"
     ]
    },
    {
     "data": {
      "text/plain": [
       "True"
      ]
     },
     "execution_count": 5,
     "metadata": {},
     "output_type": "execute_result"
    }
   ],
   "source": [
    "import nltk\n",
    "from nltk.corpus import stopwords\n",
    "nltk.download('stopwords')\n"
   ]
  },
  {
   "cell_type": "code",
   "execution_count": 6,
   "metadata": {},
   "outputs": [],
   "source": [
    "from nltk.stem import WordNetLemmatizer\n",
    "lemmatizer = WordNetLemmatizer()"
   ]
  },
  {
   "cell_type": "code",
   "execution_count": 7,
   "metadata": {},
   "outputs": [],
   "source": [
    "import re\n",
    "\n",
    "corpus=[]\n",
    "for i in range(0, len(message)):\n",
    "    review=re.sub('[^a-zA-z]',' ',message['label'][i])\n",
    "    review = review.lower()\n",
    "    review = review.split()\n",
    "    review = [lemmatizer.lemmatize(word) for word in review if word not in stopwords.words('english')]\n",
    "    corpus.append(review)"
   ]
  },
  {
   "cell_type": "code",
   "execution_count": 10,
   "metadata": {},
   "outputs": [
    {
     "data": {
      "text/plain": [
       "[['ham', 'hello', 'today'],\n",
       " ['ham', 'call', 'later'],\n",
       " ['ham', 'still', 'meeting', 'tomorrow'],\n",
       " ['ham', 'forget', 'bring', 'document'],\n",
       " ['ham', 'see', 'office'],\n",
       " ['ham', 'please', 'confirm', 'appointment', 'next', 'week'],\n",
       " ['ham', 'sent', 'report', 'let', 'know', 'question'],\n",
       " ['ham', 'thank', 'purchase', 'order', 'arrive', 'soon'],\n",
       " ['ham', 'reschedule', 'meeting', 'next', 'monday'],\n",
       " ['ham', 'happy', 'birthday', 'hope', 'great', 'day'],\n",
       " ['spam', 'gift', 'card', 'click', 'claim'],\n",
       " ['spam', 'urgent', 'account', 'compromised', 'click', 'secure'],\n",
       " ['spam', 'congratulation', 'selected', 'prize', 'reply', 'claim'],\n",
       " ['spam', 'final', 'notice', 'pay', 'avoid', 'penalty'],\n",
       " ['spam', 'earn', 'home', 'hour', 'week', 'sign'],\n",
       " ['spam', 'get', 'free', 'vacation', 'exclusive', 'offer', 'call'],\n",
       " ['spam',\n",
       "  'limited',\n",
       "  'time',\n",
       "  'offer',\n",
       "  'buy',\n",
       "  'one',\n",
       "  'get',\n",
       "  'one',\n",
       "  'free',\n",
       "  'click',\n",
       "  'purchase'],\n",
       " ['spam', 'unclaimed', 'reward', 'waiting', 'click', 'redeem'],\n",
       " ['spam', 'win', 'big', 'enter', 'lottery', 'chance', 'win', 'million'],\n",
       " ['spam', 'act', 'receive', 'discount', 'next', 'purchase']]"
      ]
     },
     "execution_count": 10,
     "metadata": {},
     "output_type": "execute_result"
    }
   ],
   "source": [
    "corpus"
   ]
  },
  {
   "cell_type": "code",
   "execution_count": 11,
   "metadata": {},
   "outputs": [],
   "source": [
    "from sklearn.feature_extraction.text import CountVectorizer\n",
    "corpus = [str(doc) for doc in corpus]\n",
    "vectorizer = CountVectorizer(max_features=100,binary=True)\n",
    "x = vectorizer.fit_transform(corpus).toarray()"
   ]
  },
  {
   "cell_type": "code",
   "execution_count": 12,
   "metadata": {},
   "outputs": [
    {
     "data": {
      "text/plain": [
       "array([[0, 0, 0, ..., 0, 0, 0],\n",
       "       [0, 0, 0, ..., 0, 0, 0],\n",
       "       [0, 0, 0, ..., 0, 0, 0],\n",
       "       ...,\n",
       "       [0, 0, 0, ..., 1, 0, 0],\n",
       "       [0, 0, 0, ..., 0, 0, 1],\n",
       "       [0, 1, 0, ..., 0, 0, 0]])"
      ]
     },
     "execution_count": 12,
     "metadata": {},
     "output_type": "execute_result"
    }
   ],
   "source": [
    "x"
   ]
  },
  {
   "cell_type": "code",
   "execution_count": null,
   "metadata": {},
   "outputs": [],
   "source": []
  }
 ],
 "metadata": {
  "kernelspec": {
   "display_name": "Python 3",
   "language": "python",
   "name": "python3"
  },
  "language_info": {
   "codemirror_mode": {
    "name": "ipython",
    "version": 3
   },
   "file_extension": ".py",
   "mimetype": "text/x-python",
   "name": "python",
   "nbconvert_exporter": "python",
   "pygments_lexer": "ipython3",
   "version": "3.12.0"
  }
 },
 "nbformat": 4,
 "nbformat_minor": 2
}
